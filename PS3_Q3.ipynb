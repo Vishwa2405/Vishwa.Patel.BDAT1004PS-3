{
  "cells": [
    {
      "cell_type": "markdown",
      "metadata": {
        "id": "IqzhSPe-EDQl"
      },
      "source": [
        "Question 3\n",
        "Housing<br>\n",
        "<br>Step 1. Import the necessary libraries\n",
        "<br>Step 2. Create 3 differents Series, each of length 100, as follows:\n",
        "<br>• The first a random number from 1 to 4\n",
        "<br>• The second a random number from 1 to 3\n",
        "<br>• The third a random number from 10,000 to 30,000\n",
        "<br>Step 3. Create a DataFrame by joinning the Series by column\n",
        "<br>Step 4. Change the name of the columns to bedrs, bathrs, price_sqr_meter\n",
        "<br>Step 5. Create a one column DataFrame with the values of the 3 Series and assign it to 'bigcolumn'\n",
        "<br>Step 6. Ops it seems it is going only until index 99. Is it true?\n",
        "<br>Step 7. Reindex the DataFrame so it goes from 0 to 299"
      ]
    },
    {
      "cell_type": "code",
      "execution_count": 2,
      "metadata": {
        "id": "GA-1GuuxEAio"
      },
      "outputs": [],
      "source": [
        "# Step 1. Import the necessary libraries\n",
        "import pandas as pd\n",
        "import numpy as np"
      ]
    },
    {
      "cell_type": "code",
      "execution_count": 3,
      "metadata": {
        "id": "KtMC5DmcFg4P"
      },
      "outputs": [],
      "source": [
        "# Step 2. Create 3 differents Series, each of length 100, as follows:\n",
        "# The first a random number from 1 to 4\n",
        "# The second a random number from 1 to 3\n",
        "# The third a random number from 10,000 to 30,000\n",
        "\n",
        "np.random.seed(0)  # for reproducibility\n",
        "\n",
        "series1 = pd.Series(np.random.randint(1, 5, 100))    # Random numbers between 1 and 4\n",
        "series2 = pd.Series(np.random.randint(1, 4, 100))    # Random numbers between 1 and 3\n",
        "series3 = pd.Series(np.random.randint(10000, 30001, 100))  # Random numbers between 10,000 and 30,000"
      ]
    },
    {
      "cell_type": "code",
      "execution_count": 4,
      "metadata": {
        "colab": {
          "base_uri": "https://localhost:8080/",
          "height": 423
        },
        "id": "9579sfMfFs_y",
        "outputId": "4e95f302-6960-405c-96b5-a87c8f955c22"
      },
      "outputs": [
        {
          "data": {
            "text/html": [
              "<div>\n",
              "<style scoped>\n",
              "    .dataframe tbody tr th:only-of-type {\n",
              "        vertical-align: middle;\n",
              "    }\n",
              "\n",
              "    .dataframe tbody tr th {\n",
              "        vertical-align: top;\n",
              "    }\n",
              "\n",
              "    .dataframe thead th {\n",
              "        text-align: right;\n",
              "    }\n",
              "</style>\n",
              "<table border=\"1\" class=\"dataframe\">\n",
              "  <thead>\n",
              "    <tr style=\"text-align: right;\">\n",
              "      <th></th>\n",
              "      <th>bedrs</th>\n",
              "      <th>bathrs</th>\n",
              "      <th>price_sqr_meter</th>\n",
              "    </tr>\n",
              "  </thead>\n",
              "  <tbody>\n",
              "    <tr>\n",
              "      <th>0</th>\n",
              "      <td>1</td>\n",
              "      <td>2</td>\n",
              "      <td>15021</td>\n",
              "    </tr>\n",
              "    <tr>\n",
              "      <th>1</th>\n",
              "      <td>4</td>\n",
              "      <td>3</td>\n",
              "      <td>11134</td>\n",
              "    </tr>\n",
              "    <tr>\n",
              "      <th>2</th>\n",
              "      <td>2</td>\n",
              "      <td>1</td>\n",
              "      <td>26409</td>\n",
              "    </tr>\n",
              "    <tr>\n",
              "      <th>3</th>\n",
              "      <td>1</td>\n",
              "      <td>1</td>\n",
              "      <td>19680</td>\n",
              "    </tr>\n",
              "    <tr>\n",
              "      <th>4</th>\n",
              "      <td>4</td>\n",
              "      <td>3</td>\n",
              "      <td>27340</td>\n",
              "    </tr>\n",
              "    <tr>\n",
              "      <th>...</th>\n",
              "      <td>...</td>\n",
              "      <td>...</td>\n",
              "      <td>...</td>\n",
              "    </tr>\n",
              "    <tr>\n",
              "      <th>95</th>\n",
              "      <td>1</td>\n",
              "      <td>2</td>\n",
              "      <td>28161</td>\n",
              "    </tr>\n",
              "    <tr>\n",
              "      <th>96</th>\n",
              "      <td>3</td>\n",
              "      <td>2</td>\n",
              "      <td>29745</td>\n",
              "    </tr>\n",
              "    <tr>\n",
              "      <th>97</th>\n",
              "      <td>4</td>\n",
              "      <td>1</td>\n",
              "      <td>18338</td>\n",
              "    </tr>\n",
              "    <tr>\n",
              "      <th>98</th>\n",
              "      <td>2</td>\n",
              "      <td>1</td>\n",
              "      <td>24676</td>\n",
              "    </tr>\n",
              "    <tr>\n",
              "      <th>99</th>\n",
              "      <td>1</td>\n",
              "      <td>1</td>\n",
              "      <td>12562</td>\n",
              "    </tr>\n",
              "  </tbody>\n",
              "</table>\n",
              "<p>100 rows × 3 columns</p>\n",
              "</div>"
            ],
            "text/plain": [
              "    bedrs  bathrs  price_sqr_meter\n",
              "0       1       2            15021\n",
              "1       4       3            11134\n",
              "2       2       1            26409\n",
              "3       1       1            19680\n",
              "4       4       3            27340\n",
              "..    ...     ...              ...\n",
              "95      1       2            28161\n",
              "96      3       2            29745\n",
              "97      4       1            18338\n",
              "98      2       1            24676\n",
              "99      1       1            12562\n",
              "\n",
              "[100 rows x 3 columns]"
            ]
          },
          "execution_count": 4,
          "metadata": {},
          "output_type": "execute_result"
        }
      ],
      "source": [
        "# Step 3 and 4. Create a DataFrame by joinning the Series by column and Change the name of the columns to bedrs, bathrs, price_sqr_meter\n",
        "df = pd.DataFrame({'bedrs': series1, 'bathrs': series2, 'price_sqr_meter': series3})\n",
        "df"
      ]
    },
    {
      "cell_type": "code",
      "execution_count": 5,
      "metadata": {
        "colab": {
          "base_uri": "https://localhost:8080/"
        },
        "id": "YBAWNsdAF02X",
        "outputId": "1fc2a9c5-398b-41ca-893f-ff7d20eab0e5"
      },
      "outputs": [
        {
          "name": "stdout",
          "output_type": "stream",
          "text": [
            "     bigcolumn\n",
            "0            1\n",
            "1            4\n",
            "2            2\n",
            "3            1\n",
            "4            4\n",
            "..         ...\n",
            "295      28161\n",
            "296      29745\n",
            "297      18338\n",
            "298      24676\n",
            "299      12562\n",
            "\n",
            "[300 rows x 1 columns]\n"
          ]
        }
      ],
      "source": [
        "# Step 5. Create a one column DataFrame with the values of the 3 Series and assign it to 'bigcolumn'\n",
        "bigcolumn = pd.DataFrame(pd.concat([series1, series2, series3], ignore_index=True))\n",
        "bigcolumn.columns = ['bigcolumn']\n",
        "print(bigcolumn)"
      ]
    },
    {
      "cell_type": "code",
      "execution_count": 6,
      "metadata": {
        "colab": {
          "base_uri": "https://localhost:8080/"
        },
        "id": "SptsoL4OGGSk",
        "outputId": "96559b2e-21d9-4f60-f61e-33b3007e6bc1"
      },
      "outputs": [
        {
          "name": "stdout",
          "output_type": "stream",
          "text": [
            "The dataFrame does not stop at index 99; it continues after that\n"
          ]
        }
      ],
      "source": [
        "# Step 6. Ops it seems it is going only until index 99. Is it true?\n",
        "if bigcolumn.index[-1] == 99:\n",
        "    print(\"The dataFrame is going only until index 99, and it is true\")\n",
        "else:\n",
        "    print(\"The dataFrame does not stop at index 99; it continues after that\")"
      ]
    },
    {
      "cell_type": "code",
      "execution_count": 7,
      "metadata": {
        "colab": {
          "base_uri": "https://localhost:8080/"
        },
        "id": "RLg_oZ4lG_s9",
        "outputId": "a4bf0ff0-a070-43ab-d277-3ace601cf3ca"
      },
      "outputs": [
        {
          "name": "stdout",
          "output_type": "stream",
          "text": [
            "     bigcolumn\n",
            "0            1\n",
            "1            4\n",
            "2            2\n",
            "3            1\n",
            "4            4\n",
            "..         ...\n",
            "295      28161\n",
            "296      29745\n",
            "297      18338\n",
            "298      24676\n",
            "299      12562\n",
            "\n",
            "[300 rows x 1 columns]\n"
          ]
        }
      ],
      "source": [
        "# Step 7. Reindex the DataFrame so it goes from 0 to 299\n",
        "bigcolumn.reset_index(drop=True, inplace=True)\n",
        "print(bigcolumn)"
      ]
    }
  ],
  "metadata": {
    "colab": {
      "provenance": []
    },
    "kernelspec": {
      "display_name": "Python 3",
      "name": "python3"
    },
    "language_info": {
      "codemirror_mode": {
        "name": "ipython",
        "version": 3
      },
      "file_extension": ".py",
      "mimetype": "text/x-python",
      "name": "python",
      "nbconvert_exporter": "python",
      "pygments_lexer": "ipython3",
      "version": "3.11.3"
    }
  },
  "nbformat": 4,
  "nbformat_minor": 0
}
